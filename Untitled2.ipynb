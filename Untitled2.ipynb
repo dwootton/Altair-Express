{
 "cells": [
  {
   "cell_type": "code",
   "execution_count": 1,
   "id": "6a844484-4e5b-40a6-92f7-a839bab573fa",
   "metadata": {},
   "outputs": [],
   "source": [
    "import pandas as pd \n",
    "import altair_express as alx\n",
    "from vega_datasets import data"
   ]
  },
  {
   "cell_type": "code",
   "execution_count": 2,
   "id": "ad04f678-7301-4f6a-9af0-7f6c4da00dd2",
   "metadata": {},
   "outputs": [
    {
     "ename": "AttributeError",
     "evalue": "'Chart' object has no attribute 'add_params'",
     "output_type": "error",
     "traceback": [
      "\u001b[0;31m---------------------------------------------------------------------------\u001b[0m",
      "\u001b[0;31mAttributeError\u001b[0m                            Traceback (most recent call last)",
      "\u001b[0;32m/var/folders/p0/6drk3lgs5lsdshny3wjmg53m0000gn/T/ipykernel_82166/2603707904.py\u001b[0m in \u001b[0;36m<module>\u001b[0;34m\u001b[0m\n\u001b[1;32m      5\u001b[0m \u001b[0mgroup_itx\u001b[0m \u001b[0;34m=\u001b[0m \u001b[0malx\u001b[0m\u001b[0;34m.\u001b[0m\u001b[0mgroup_color\u001b[0m\u001b[0;34m(\u001b[0m\u001b[0;34m)\u001b[0m\u001b[0;34m\u001b[0m\u001b[0;34m\u001b[0m\u001b[0m\n\u001b[1;32m      6\u001b[0m \u001b[0;34m\u001b[0m\u001b[0m\n\u001b[0;32m----> 7\u001b[0;31m \u001b[0mchart_1\u001b[0m \u001b[0;34m=\u001b[0m \u001b[0moverview_itx\u001b[0m \u001b[0;34m+\u001b[0m \u001b[0malx\u001b[0m\u001b[0;34m.\u001b[0m\u001b[0mlineplot\u001b[0m\u001b[0;34m(\u001b[0m\u001b[0mdata\u001b[0m\u001b[0;34m=\u001b[0m\u001b[0mdata\u001b[0m\u001b[0;34m.\u001b[0m\u001b[0mstocks\u001b[0m\u001b[0;34m(\u001b[0m\u001b[0;34m)\u001b[0m\u001b[0;34m,\u001b[0m\u001b[0mx\u001b[0m\u001b[0;34m=\u001b[0m\u001b[0;34m'date'\u001b[0m\u001b[0;34m,\u001b[0m\u001b[0mx_axis\u001b[0m\u001b[0;34m=\u001b[0m\u001b[0;32mNone\u001b[0m\u001b[0;34m,\u001b[0m\u001b[0my_axis\u001b[0m\u001b[0;34m=\u001b[0m\u001b[0;32mNone\u001b[0m\u001b[0;34m,\u001b[0m\u001b[0my\u001b[0m\u001b[0;34m=\u001b[0m\u001b[0;34m'price'\u001b[0m\u001b[0;34m,\u001b[0m\u001b[0mcolor\u001b[0m\u001b[0;34m=\u001b[0m\u001b[0;34m'symbol'\u001b[0m\u001b[0;34m,\u001b[0m\u001b[0mheight\u001b[0m\u001b[0;34m=\u001b[0m\u001b[0;36m100\u001b[0m\u001b[0;34m,\u001b[0m\u001b[0mwidth\u001b[0m\u001b[0;34m=\u001b[0m\u001b[0;36m500\u001b[0m\u001b[0;34m)\u001b[0m\u001b[0;34m\u001b[0m\u001b[0;34m\u001b[0m\u001b[0m\n\u001b[0m\u001b[1;32m      8\u001b[0m \u001b[0;34m\u001b[0m\u001b[0m\n\u001b[1;32m      9\u001b[0m \u001b[0;31m# here we create the effect object by passing in the interaction object from chart_1\u001b[0m\u001b[0;34m\u001b[0m\u001b[0;34m\u001b[0m\u001b[0m\n",
      "\u001b[0;32m~/Documents/GitHub/altair_express/altair_express/altair_express/interactions.py\u001b[0m in \u001b[0;36m__add__\u001b[0;34m(self, other)\u001b[0m\n\u001b[1;32m    596\u001b[0m         \u001b[0;32mif\u001b[0m \u001b[0misinstance\u001b[0m\u001b[0;34m(\u001b[0m\u001b[0mother\u001b[0m\u001b[0;34m,\u001b[0m\u001b[0mInteractions\u001b[0m\u001b[0;34m)\u001b[0m\u001b[0;34m:\u001b[0m\u001b[0;34m\u001b[0m\u001b[0;34m\u001b[0m\u001b[0m\n\u001b[1;32m    597\u001b[0m             \u001b[0;32mreturn\u001b[0m \u001b[0mInteractions\u001b[0m\u001b[0;34m(\u001b[0m\u001b[0;34m[\u001b[0m\u001b[0mself\u001b[0m\u001b[0;34m,\u001b[0m\u001b[0mother\u001b[0m\u001b[0;34m.\u001b[0m\u001b[0minteractions\u001b[0m\u001b[0;34m]\u001b[0m\u001b[0;34m)\u001b[0m\u001b[0;34m\u001b[0m\u001b[0;34m\u001b[0m\u001b[0m\n\u001b[0;32m--> 598\u001b[0;31m         \u001b[0;32mreturn\u001b[0m \u001b[0madd_interaction\u001b[0m\u001b[0;34m(\u001b[0m\u001b[0mother\u001b[0m\u001b[0;34m,\u001b[0m\u001b[0mself\u001b[0m\u001b[0;34m)\u001b[0m\u001b[0;34m\u001b[0m\u001b[0;34m\u001b[0m\u001b[0m\n\u001b[0m\u001b[1;32m    599\u001b[0m     \u001b[0;32mdef\u001b[0m \u001b[0m__radd__\u001b[0m\u001b[0;34m(\u001b[0m\u001b[0mself\u001b[0m\u001b[0;34m,\u001b[0m \u001b[0mother\u001b[0m\u001b[0;34m)\u001b[0m\u001b[0;34m:\u001b[0m\u001b[0;34m\u001b[0m\u001b[0;34m\u001b[0m\u001b[0m\n\u001b[1;32m    600\u001b[0m         \u001b[0;32mreturn\u001b[0m \u001b[0mself\u001b[0m\u001b[0;34m.\u001b[0m\u001b[0m__add__\u001b[0m\u001b[0;34m(\u001b[0m\u001b[0mother\u001b[0m\u001b[0;34m)\u001b[0m\u001b[0;34m\u001b[0m\u001b[0;34m\u001b[0m\u001b[0m\n",
      "\u001b[0;32m~/Documents/GitHub/altair_express/altair_express/altair_express/interactions.py\u001b[0m in \u001b[0;36madd_interaction\u001b[0;34m(chart, interaction)\u001b[0m\n\u001b[1;32m    817\u001b[0m         \u001b[0mchart\u001b[0m\u001b[0;34m.\u001b[0m\u001b[0mspec\u001b[0m \u001b[0;34m=\u001b[0m \u001b[0mspec\u001b[0m\u001b[0;34m\u001b[0m\u001b[0;34m\u001b[0m\u001b[0m\n\u001b[1;32m    818\u001b[0m     \u001b[0;32melse\u001b[0m\u001b[0;34m:\u001b[0m\u001b[0;34m\u001b[0m\u001b[0;34m\u001b[0m\u001b[0m\n\u001b[0;32m--> 819\u001b[0;31m         \u001b[0mchart\u001b[0m\u001b[0;34m=\u001b[0m\u001b[0mchart\u001b[0m\u001b[0;34m.\u001b[0m\u001b[0madd_params\u001b[0m\u001b[0;34m(\u001b[0m\u001b[0mparameter\u001b[0m\u001b[0;34m)\u001b[0m\u001b[0;34m\u001b[0m\u001b[0;34m\u001b[0m\u001b[0m\n\u001b[0m\u001b[1;32m    820\u001b[0m     \u001b[0mchart\u001b[0m \u001b[0;34m=\u001b[0m  \u001b[0mapply_effect\u001b[0m\u001b[0;34m(\u001b[0m\u001b[0mchart\u001b[0m\u001b[0;34m,\u001b[0m\u001b[0minteraction\u001b[0m\u001b[0;34m,\u001b[0m\u001b[0mparameter\u001b[0m\u001b[0;34m)\u001b[0m\u001b[0;34m\u001b[0m\u001b[0;34m\u001b[0m\u001b[0m\n\u001b[1;32m    821\u001b[0m     \u001b[0mchart\u001b[0m \u001b[0;34m=\u001b[0m \u001b[0madd_cursor\u001b[0m\u001b[0;34m(\u001b[0m\u001b[0mchart\u001b[0m\u001b[0;34m,\u001b[0m\u001b[0minteraction\u001b[0m\u001b[0;34m)\u001b[0m\u001b[0;34m\u001b[0m\u001b[0;34m\u001b[0m\u001b[0m\n",
      "\u001b[0;32m~/Library/Python/3.10/lib/python/site-packages/altair/utils/schemapi.py\u001b[0m in \u001b[0;36m__getattr__\u001b[0;34m(self, attr)\u001b[0m\n\u001b[1;32m    276\u001b[0m             \u001b[0;32mexcept\u001b[0m \u001b[0mAttributeError\u001b[0m\u001b[0;34m:\u001b[0m\u001b[0;34m\u001b[0m\u001b[0;34m\u001b[0m\u001b[0m\n\u001b[1;32m    277\u001b[0m                 \u001b[0m_getattr\u001b[0m \u001b[0;34m=\u001b[0m \u001b[0msuper\u001b[0m\u001b[0;34m(\u001b[0m\u001b[0mSchemaBase\u001b[0m\u001b[0;34m,\u001b[0m \u001b[0mself\u001b[0m\u001b[0;34m)\u001b[0m\u001b[0;34m.\u001b[0m\u001b[0m__getattribute__\u001b[0m\u001b[0;34m\u001b[0m\u001b[0;34m\u001b[0m\u001b[0m\n\u001b[0;32m--> 278\u001b[0;31m             \u001b[0;32mreturn\u001b[0m \u001b[0m_getattr\u001b[0m\u001b[0;34m(\u001b[0m\u001b[0mattr\u001b[0m\u001b[0;34m)\u001b[0m\u001b[0;34m\u001b[0m\u001b[0;34m\u001b[0m\u001b[0m\n\u001b[0m\u001b[1;32m    279\u001b[0m \u001b[0;34m\u001b[0m\u001b[0m\n\u001b[1;32m    280\u001b[0m     \u001b[0;32mdef\u001b[0m \u001b[0m__setattr__\u001b[0m\u001b[0;34m(\u001b[0m\u001b[0mself\u001b[0m\u001b[0;34m,\u001b[0m \u001b[0mitem\u001b[0m\u001b[0;34m,\u001b[0m \u001b[0mval\u001b[0m\u001b[0;34m)\u001b[0m\u001b[0;34m:\u001b[0m\u001b[0;34m\u001b[0m\u001b[0;34m\u001b[0m\u001b[0m\n",
      "\u001b[0;31mAttributeError\u001b[0m: 'Chart' object has no attribute 'add_params'"
     ]
    }
   ],
   "source": [
    "import altair_express as alx\n",
    "from vega_datasets import data\n",
    "\n",
    "overview_itx = alx.highlight_brush()\n",
    "group_itx = alx.group_color()\n",
    "\n",
    "chart_1 = overview_itx + alx.lineplot(data=data.stocks(),x='date',x_axis=None,y_axis=None,y='price',color='symbol',height=100,width=500)\n",
    "\n",
    "# here we create the effect object by passing in the interaction object from chart_1\n",
    "effect = {\"filter\":[overview_itx]}\n",
    "\n",
    "\n",
    "# then we pass that object in to chrt2, allowing chrt2\n",
    "chart_2 = group_itx + alx.lineplot(data=data.stocks(),x='date',y='price',color='symbol',effects=effect, width=500)\n",
    "\n",
    "# finally we vertically concatenate the two charts together\n",
    "(chart_1 & chart_2).to_json(validate=False)"
   ]
  },
  {
   "cell_type": "code",
   "execution_count": 13,
   "id": "9f23e3c6-4f2d-4614-bbe4-1e7c64669f4f",
   "metadata": {},
   "outputs": [
    {
     "ename": "ValueError",
     "evalue": "Y specifies both shorthand=price and field=avgprice. ",
     "output_type": "error",
     "traceback": [
      "\u001b[0;31m---------------------------------------------------------------------------\u001b[0m",
      "\u001b[0;31mValueError\u001b[0m                                Traceback (most recent call last)",
      "\u001b[0;32m~/Library/Python/3.10/lib/python/site-packages/altair/vegalite/v5/api.py\u001b[0m in \u001b[0;36mto_dict\u001b[0;34m(self, *args, **kwargs)\u001b[0m\n",
      "\u001b[0;32m~/Library/Python/3.10/lib/python/site-packages/altair/utils/schemapi.py\u001b[0m in \u001b[0;36mto_dict\u001b[0;34m(self, validate, ignore, context)\u001b[0m\n",
      "\u001b[0;32m~/Library/Python/3.10/lib/python/site-packages/altair/utils/schemapi.py\u001b[0m in \u001b[0;36m_todict\u001b[0;34m(obj, validate, context)\u001b[0m\n",
      "\u001b[0;32m~/Library/Python/3.10/lib/python/site-packages/altair/utils/schemapi.py\u001b[0m in \u001b[0;36m<dictcomp>\u001b[0;34m(.0)\u001b[0m\n",
      "\u001b[0;32m~/Library/Python/3.10/lib/python/site-packages/altair/utils/schemapi.py\u001b[0m in \u001b[0;36m_todict\u001b[0;34m(obj, validate, context)\u001b[0m\n",
      "\u001b[0;32m~/Library/Python/3.10/lib/python/site-packages/altair/utils/schemapi.py\u001b[0m in \u001b[0;36m<listcomp>\u001b[0;34m(.0)\u001b[0m\n",
      "\u001b[0;32m~/Library/Python/3.10/lib/python/site-packages/altair/utils/schemapi.py\u001b[0m in \u001b[0;36m_todict\u001b[0;34m(obj, validate, context)\u001b[0m\n",
      "\u001b[0;32m~/Library/Python/3.10/lib/python/site-packages/altair/vegalite/v5/api.py\u001b[0m in \u001b[0;36mto_dict\u001b[0;34m(self, *args, **kwargs)\u001b[0m\n",
      "\u001b[0;32m~/Library/Python/3.10/lib/python/site-packages/altair/vegalite/v5/api.py\u001b[0m in \u001b[0;36mto_dict\u001b[0;34m(self, *args, **kwargs)\u001b[0m\n",
      "\u001b[0;32m~/Library/Python/3.10/lib/python/site-packages/altair/utils/schemapi.py\u001b[0m in \u001b[0;36mto_dict\u001b[0;34m(self, validate, ignore, context)\u001b[0m\n",
      "\u001b[0;32m~/Library/Python/3.10/lib/python/site-packages/altair/utils/schemapi.py\u001b[0m in \u001b[0;36m_todict\u001b[0;34m(obj, validate, context)\u001b[0m\n",
      "\u001b[0;32m~/Library/Python/3.10/lib/python/site-packages/altair/utils/schemapi.py\u001b[0m in \u001b[0;36m<dictcomp>\u001b[0;34m(.0)\u001b[0m\n",
      "\u001b[0;32m~/Library/Python/3.10/lib/python/site-packages/altair/utils/schemapi.py\u001b[0m in \u001b[0;36m_todict\u001b[0;34m(obj, validate, context)\u001b[0m\n",
      "\u001b[0;32m~/Library/Python/3.10/lib/python/site-packages/altair/utils/schemapi.py\u001b[0m in \u001b[0;36mto_dict\u001b[0;34m(self, validate, ignore, context)\u001b[0m\n",
      "\u001b[0;32m~/Library/Python/3.10/lib/python/site-packages/altair/utils/schemapi.py\u001b[0m in \u001b[0;36m_todict\u001b[0;34m(obj, validate, context)\u001b[0m\n",
      "\u001b[0;32m~/Library/Python/3.10/lib/python/site-packages/altair/utils/schemapi.py\u001b[0m in \u001b[0;36m<dictcomp>\u001b[0;34m(.0)\u001b[0m\n",
      "\u001b[0;32m~/Library/Python/3.10/lib/python/site-packages/altair/utils/schemapi.py\u001b[0m in \u001b[0;36m_todict\u001b[0;34m(obj, validate, context)\u001b[0m\n",
      "\u001b[0;32m~/Library/Python/3.10/lib/python/site-packages/altair/vegalite/v5/schema/channels.py\u001b[0m in \u001b[0;36mto_dict\u001b[0;34m(self, validate, ignore, context)\u001b[0m\n",
      "\u001b[0;31mValueError\u001b[0m: Y specifies both shorthand=price and field=avgprice. "
     ]
    },
    {
     "data": {
      "text/plain": [
       "alt.LayerChart(...)"
      ]
     },
     "execution_count": 13,
     "metadata": {},
     "output_type": "execute_result"
    }
   ],
   "source": [
    "group_itx + alx.lineplot(data=data.stocks(),x='date',y='price',color='symbol',effects=effect, width=500)"
   ]
  },
  {
   "cell_type": "code",
   "execution_count": null,
   "id": "e50637f7-f016-4d1a-bfe2-671fc0040abc",
   "metadata": {},
   "outputs": [],
   "source": []
  }
 ],
 "metadata": {
  "kernelspec": {
   "display_name": "Python 3 (ipykernel)",
   "language": "python",
   "name": "python3"
  },
  "language_info": {
   "codemirror_mode": {
    "name": "ipython",
    "version": 3
   },
   "file_extension": ".py",
   "mimetype": "text/x-python",
   "name": "python",
   "nbconvert_exporter": "python",
   "pygments_lexer": "ipython3",
   "version": "3.10.0"
  }
 },
 "nbformat": 4,
 "nbformat_minor": 5
}
