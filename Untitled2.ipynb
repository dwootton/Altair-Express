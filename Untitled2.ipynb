{
 "cells": [
  {
   "cell_type": "code",
   "execution_count": 6,
   "id": "6a844484-4e5b-40a6-92f7-a839bab573fa",
   "metadata": {},
   "outputs": [],
   "source": [
    "import pandas as pd \n",
    "import altair_express as alx\n",
    "from vega_datasets import data"
   ]
  },
  {
   "cell_type": "code",
   "execution_count": 8,
   "id": "ad04f678-7301-4f6a-9af0-7f6c4da00dd2",
   "metadata": {},
   "outputs": [
    {
     "ename": "ValueError",
     "evalue": "Y specifies both shorthand=price and field=avgprice. ",
     "output_type": "error",
     "traceback": [
      "\u001b[0;31m---------------------------------------------------------------------------\u001b[0m",
      "\u001b[0;31mValueError\u001b[0m                                Traceback (most recent call last)",
      "\u001b[0;32m~/Library/Python/3.10/lib/python/site-packages/altair/vegalite/v5/api.py\u001b[0m in \u001b[0;36mto_dict\u001b[0;34m(self, *args, **kwargs)\u001b[0m\n",
      "\u001b[0;32m~/Library/Python/3.10/lib/python/site-packages/altair/utils/schemapi.py\u001b[0m in \u001b[0;36mto_dict\u001b[0;34m(self, validate, ignore, context)\u001b[0m\n",
      "\u001b[0;32m~/Library/Python/3.10/lib/python/site-packages/altair/utils/schemapi.py\u001b[0m in \u001b[0;36m_todict\u001b[0;34m(obj, validate, context)\u001b[0m\n",
      "\u001b[0;32m~/Library/Python/3.10/lib/python/site-packages/altair/utils/schemapi.py\u001b[0m in \u001b[0;36m<dictcomp>\u001b[0;34m(.0)\u001b[0m\n",
      "\u001b[0;32m~/Library/Python/3.10/lib/python/site-packages/altair/utils/schemapi.py\u001b[0m in \u001b[0;36m_todict\u001b[0;34m(obj, validate, context)\u001b[0m\n",
      "\u001b[0;32m~/Library/Python/3.10/lib/python/site-packages/altair/utils/schemapi.py\u001b[0m in \u001b[0;36m<listcomp>\u001b[0;34m(.0)\u001b[0m\n",
      "\u001b[0;32m~/Library/Python/3.10/lib/python/site-packages/altair/utils/schemapi.py\u001b[0m in \u001b[0;36m_todict\u001b[0;34m(obj, validate, context)\u001b[0m\n",
      "\u001b[0;32m~/Library/Python/3.10/lib/python/site-packages/altair/vegalite/v5/api.py\u001b[0m in \u001b[0;36mto_dict\u001b[0;34m(self, *args, **kwargs)\u001b[0m\n",
      "\u001b[0;32m~/Library/Python/3.10/lib/python/site-packages/altair/utils/schemapi.py\u001b[0m in \u001b[0;36mto_dict\u001b[0;34m(self, validate, ignore, context)\u001b[0m\n",
      "\u001b[0;32m~/Library/Python/3.10/lib/python/site-packages/altair/utils/schemapi.py\u001b[0m in \u001b[0;36m_todict\u001b[0;34m(obj, validate, context)\u001b[0m\n",
      "\u001b[0;32m~/Library/Python/3.10/lib/python/site-packages/altair/utils/schemapi.py\u001b[0m in \u001b[0;36m<dictcomp>\u001b[0;34m(.0)\u001b[0m\n",
      "\u001b[0;32m~/Library/Python/3.10/lib/python/site-packages/altair/utils/schemapi.py\u001b[0m in \u001b[0;36m_todict\u001b[0;34m(obj, validate, context)\u001b[0m\n",
      "\u001b[0;32m~/Library/Python/3.10/lib/python/site-packages/altair/utils/schemapi.py\u001b[0m in \u001b[0;36m<listcomp>\u001b[0;34m(.0)\u001b[0m\n",
      "\u001b[0;32m~/Library/Python/3.10/lib/python/site-packages/altair/utils/schemapi.py\u001b[0m in \u001b[0;36m_todict\u001b[0;34m(obj, validate, context)\u001b[0m\n",
      "\u001b[0;32m~/Library/Python/3.10/lib/python/site-packages/altair/vegalite/v5/api.py\u001b[0m in \u001b[0;36mto_dict\u001b[0;34m(self, *args, **kwargs)\u001b[0m\n",
      "\u001b[0;32m~/Library/Python/3.10/lib/python/site-packages/altair/vegalite/v5/api.py\u001b[0m in \u001b[0;36mto_dict\u001b[0;34m(self, *args, **kwargs)\u001b[0m\n",
      "\u001b[0;32m~/Library/Python/3.10/lib/python/site-packages/altair/utils/schemapi.py\u001b[0m in \u001b[0;36mto_dict\u001b[0;34m(self, validate, ignore, context)\u001b[0m\n",
      "\u001b[0;32m~/Library/Python/3.10/lib/python/site-packages/altair/utils/schemapi.py\u001b[0m in \u001b[0;36m_todict\u001b[0;34m(obj, validate, context)\u001b[0m\n",
      "\u001b[0;32m~/Library/Python/3.10/lib/python/site-packages/altair/utils/schemapi.py\u001b[0m in \u001b[0;36m<dictcomp>\u001b[0;34m(.0)\u001b[0m\n",
      "\u001b[0;32m~/Library/Python/3.10/lib/python/site-packages/altair/utils/schemapi.py\u001b[0m in \u001b[0;36m_todict\u001b[0;34m(obj, validate, context)\u001b[0m\n",
      "\u001b[0;32m~/Library/Python/3.10/lib/python/site-packages/altair/utils/schemapi.py\u001b[0m in \u001b[0;36mto_dict\u001b[0;34m(self, validate, ignore, context)\u001b[0m\n",
      "\u001b[0;32m~/Library/Python/3.10/lib/python/site-packages/altair/utils/schemapi.py\u001b[0m in \u001b[0;36m_todict\u001b[0;34m(obj, validate, context)\u001b[0m\n",
      "\u001b[0;32m~/Library/Python/3.10/lib/python/site-packages/altair/utils/schemapi.py\u001b[0m in \u001b[0;36m<dictcomp>\u001b[0;34m(.0)\u001b[0m\n",
      "\u001b[0;32m~/Library/Python/3.10/lib/python/site-packages/altair/utils/schemapi.py\u001b[0m in \u001b[0;36m_todict\u001b[0;34m(obj, validate, context)\u001b[0m\n",
      "\u001b[0;32m~/Library/Python/3.10/lib/python/site-packages/altair/vegalite/v5/schema/channels.py\u001b[0m in \u001b[0;36mto_dict\u001b[0;34m(self, validate, ignore, context)\u001b[0m\n",
      "\u001b[0;31mValueError\u001b[0m: Y specifies both shorthand=price and field=avgprice. "
     ]
    },
    {
     "data": {
      "text/plain": [
       "alt.VConcatChart(...)"
      ]
     },
     "execution_count": 8,
     "metadata": {},
     "output_type": "execute_result"
    }
   ],
   "source": [
    "import altair_express as alx\n",
    "from vega_datasets import data\n",
    "\n",
    "overview_itx = alx.highlight_brush()\n",
    "group_itx = alx.group_color()\n",
    "\n",
    "chart_1 = overview_itx + alx.lineplot(data=data.stocks(),x='date',x_axis=None,y_axis=None,y='price',color='symbol',height=100,width=500)\n",
    "\n",
    "# here we create the effect object by passing in the interaction object from chart_1\n",
    "effect = {\"filter\":overview_itx}\n",
    "\n",
    "\n",
    "# then we pass that object in to chrt2, allowing chrt2\n",
    "chart_2 = group_itx + alx.lineplot(data=data.stocks(),x='date',y='price',color='symbol',effects=effect, width=500)\n",
    "\n",
    "# finally we vertically concatenate the two charts together\n",
    "chart_1 & chart_2"
   ]
  },
  {
   "cell_type": "code",
   "execution_count": null,
   "id": "9f23e3c6-4f2d-4614-bbe4-1e7c64669f4f",
   "metadata": {},
   "outputs": [],
   "source": []
  }
 ],
 "metadata": {
  "kernelspec": {
   "display_name": "Python 3 (ipykernel)",
   "language": "python",
   "name": "python3"
  },
  "language_info": {
   "codemirror_mode": {
    "name": "ipython",
    "version": 3
   },
   "file_extension": ".py",
   "mimetype": "text/x-python",
   "name": "python",
   "nbconvert_exporter": "python",
   "pygments_lexer": "ipython3",
   "version": "3.10.0"
  }
 },
 "nbformat": 4,
 "nbformat_minor": 5
}
