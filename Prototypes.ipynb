{
 "cells": [
  {
   "cell_type": "code",
   "execution_count": 1,
   "id": "adff9ea5-7d95-4a96-a08c-155ff57f19a6",
   "metadata": {},
   "outputs": [],
   "source": [
    "import altair_express as alx\n",
    "import altair as alt\n",
    "from vega_datasets import data \n",
    "\n"
   ]
  },
  {
   "cell_type": "code",
   "execution_count": 4,
   "id": "c4716b2c-fa35-46c9-9148-749cc5564026",
   "metadata": {},
   "outputs": [
    {
     "ename": "TypeError",
     "evalue": "unsupported operand type(s) for +: 'Interactor' and 'Interactor'",
     "output_type": "error",
     "traceback": [
      "\u001b[0;31m---------------------------------------------------------------------------\u001b[0m",
      "\u001b[0;31mTypeError\u001b[0m                                 Traceback (most recent call last)",
      "Cell \u001b[0;32mIn[4], line 12\u001b[0m\n\u001b[1;32m      8\u001b[0m persistent_click \u001b[38;5;241m=\u001b[39m ClickGenerator \u001b[38;5;241m+\u001b[39m Highlight\n\u001b[1;32m      9\u001b[0m ephemeral_hover \u001b[38;5;241m=\u001b[39m HoverGenerator \u001b[38;5;241m+\u001b[39m Highlight\n\u001b[0;32m---> 12\u001b[0m \u001b[43mpersistent_click\u001b[49m\u001b[43m \u001b[49m\u001b[38;5;241;43m+\u001b[39;49m\u001b[43m \u001b[49m\u001b[43mephemeral_hover\u001b[49m \u001b[38;5;241m+\u001b[39m scatterplot\n",
      "\u001b[0;31mTypeError\u001b[0m: unsupported operand type(s) for +: 'Interactor' and 'Interactor'"
     ]
    }
   ],
   "source": [
    "click = alt.selection_single(on='click')\n",
    "on_hover = alt.selection_single(on='mouseover')\n",
    "\n",
    "ClickGenerator = alx.Generator(click)\n",
    "HoverGenerator = alx.Generator(on_hover)\n",
    "\n",
    "Highlight = alx.Response(ResponseFn=lambda spec, generator: spec.encode(color=alt.condition(generator.listener, 'color', alt.value('lightgray'))))\n",
    "#LabelPoint = alx.Response(ResponseFn=lambda spec, generator: spec + spec.mark_line().encode(text=\"blah\")\n",
    "\n",
    "\n",
    "persistent_click = ClickGenerator + Highlight + LabelPoint\n",
    "ephemeral_hover = HoverGenerator + Highlight\n",
    "\n",
    "\n",
    "persistent_click + ephemeral_hover + scatterplot\n"
   ]
  },
  {
   "cell_type": "code",
   "execution_count": null,
   "id": "88efe619-ddb4-4507-a2e8-0b4910b30f99",
   "metadata": {},
   "outputs": [],
   "source": []
  }
 ],
 "metadata": {
  "kernelspec": {
   "display_name": "Python 3 (ipykernel)",
   "language": "python",
   "name": "python3"
  },
  "language_info": {
   "codemirror_mode": {
    "name": "ipython",
    "version": 3
   },
   "file_extension": ".py",
   "mimetype": "text/x-python",
   "name": "python",
   "nbconvert_exporter": "python",
   "pygments_lexer": "ipython3",
   "version": "3.10.0"
  }
 },
 "nbformat": 4,
 "nbformat_minor": 5
}
