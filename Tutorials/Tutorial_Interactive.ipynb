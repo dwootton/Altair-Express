{
 "cells": [
  {
   "cell_type": "markdown",
   "id": "4abe1cd0-a8f7-4fa1-972c-89728418cb61",
   "metadata": {},
   "source": [
    "# Altair Express Interaction Tutorial\n",
    "\n",
    "You saw in the last tutorial how static charts can be made quickly in altair express. \n",
    "\n",
    "Altair Express also affords powerful interaction features that can be added to your charts to rapidly make a visualization interactive. \n",
    "\n",
    "Let's investigate these:"
   ]
  },
  {
   "cell_type": "code",
   "execution_count": 3,
   "id": "ee533ac4-1380-4de4-8e72-b0477489ff14",
   "metadata": {},
   "outputs": [],
   "source": [
    "import altair_express as alx \n",
    "from vega_datasets import data \n",
    "import numpy as np \n",
    "import pandas as pd \n"
   ]
  },
  {
   "cell_type": "markdown",
   "id": "c465f9b7-7a70-488a-8f3f-fff3df8eda57",
   "metadata": {},
   "source": [
    "We'll be working with the same gapminder dataset as before"
   ]
  },
  {
   "cell_type": "code",
   "execution_count": 4,
   "id": "b22ee58f-fe29-4f8e-a011-9257c0ea5dd8",
   "metadata": {},
   "outputs": [
    {
     "data": {
      "text/html": [
       "<div>\n",
       "<style scoped>\n",
       "    .dataframe tbody tr th:only-of-type {\n",
       "        vertical-align: middle;\n",
       "    }\n",
       "\n",
       "    .dataframe tbody tr th {\n",
       "        vertical-align: top;\n",
       "    }\n",
       "\n",
       "    .dataframe thead th {\n",
       "        text-align: right;\n",
       "    }\n",
       "</style>\n",
       "<table border=\"1\" class=\"dataframe\">\n",
       "  <thead>\n",
       "    <tr style=\"text-align: right;\">\n",
       "      <th></th>\n",
       "      <th>year</th>\n",
       "      <th>country</th>\n",
       "      <th>cluster</th>\n",
       "      <th>pop</th>\n",
       "      <th>life_expect</th>\n",
       "      <th>fertility</th>\n",
       "    </tr>\n",
       "  </thead>\n",
       "  <tbody>\n",
       "    <tr>\n",
       "      <th>0</th>\n",
       "      <td>1955</td>\n",
       "      <td>Afghanistan</td>\n",
       "      <td>0</td>\n",
       "      <td>8891209</td>\n",
       "      <td>30.332</td>\n",
       "      <td>7.7</td>\n",
       "    </tr>\n",
       "    <tr>\n",
       "      <th>1</th>\n",
       "      <td>1960</td>\n",
       "      <td>Afghanistan</td>\n",
       "      <td>0</td>\n",
       "      <td>9829450</td>\n",
       "      <td>31.997</td>\n",
       "      <td>7.7</td>\n",
       "    </tr>\n",
       "    <tr>\n",
       "      <th>2</th>\n",
       "      <td>1965</td>\n",
       "      <td>Afghanistan</td>\n",
       "      <td>0</td>\n",
       "      <td>10997885</td>\n",
       "      <td>34.020</td>\n",
       "      <td>7.7</td>\n",
       "    </tr>\n",
       "    <tr>\n",
       "      <th>3</th>\n",
       "      <td>1970</td>\n",
       "      <td>Afghanistan</td>\n",
       "      <td>0</td>\n",
       "      <td>12430623</td>\n",
       "      <td>36.088</td>\n",
       "      <td>7.7</td>\n",
       "    </tr>\n",
       "    <tr>\n",
       "      <th>4</th>\n",
       "      <td>1975</td>\n",
       "      <td>Afghanistan</td>\n",
       "      <td>0</td>\n",
       "      <td>14132019</td>\n",
       "      <td>38.438</td>\n",
       "      <td>7.7</td>\n",
       "    </tr>\n",
       "  </tbody>\n",
       "</table>\n",
       "</div>"
      ],
      "text/plain": [
       "   year      country  cluster       pop  life_expect  fertility\n",
       "0  1955  Afghanistan        0   8891209       30.332        7.7\n",
       "1  1960  Afghanistan        0   9829450       31.997        7.7\n",
       "2  1965  Afghanistan        0  10997885       34.020        7.7\n",
       "3  1970  Afghanistan        0  12430623       36.088        7.7\n",
       "4  1975  Afghanistan        0  14132019       38.438        7.7"
      ]
     },
     "execution_count": 4,
     "metadata": {},
     "output_type": "execute_result"
    }
   ],
   "source": [
    "df = data.gapminder()\n",
    "df.head()"
   ]
  },
  {
   "cell_type": "markdown",
   "id": "ac554f9d-b229-4959-85c1-3653f8dd20ac",
   "metadata": {},
   "source": [
    "## Interaction Techniques\n",
    "Let's get familiar with the dataset a bit more. To do this, we'll use altair expresses visualization library to visualize our data.\n",
    "\n",
    "The profile function provides a quick api to visualize the columns of vour dataframe and help us find areas that might be more interesting to look at.\n",
    "\n"
   ]
  },
  {
   "cell_type": "code",
   "execution_count": null,
   "id": "63f797ed-b64f-4eba-a5c5-a3ce6c6a45ae",
   "metadata": {},
   "outputs": [],
   "source": [
    "columns = df.columns # returns list of column names [\"year\",\"country\"...]\n",
    "alx.highlight_brush() + alx.profile(df,vars=columns)"
   ]
  },
  {
   "cell_type": "markdown",
   "id": "52916b23-644e-4200-82d0-63a6e7014dc2",
   "metadata": {},
   "source": [
    "By layering on interaction, you can now click and brush across your data columns to filter them. Now, the profile can be a powerful data selection tool. \n",
    "\n",
    "Lets explore other interaction techniques"
   ]
  },
  {
   "cell_type": "code",
   "execution_count": null,
   "id": "1cefd198-35a4-4c68-b090-5c95cab7b65c",
   "metadata": {},
   "outputs": [],
   "source": [
    "# Our chart support includes many items from the seaborn api: scatterplots, histograms, heatmaps, pairplots, jointplots \n",
    "alx.highlight_color() + alx.lineplot(df,x='year',y='average(life_expect)', color= 'cluster')"
   ]
  },
  {
   "cell_type": "code",
   "execution_count": null,
   "id": "1be36b2a-1946-449f-aada-257f4b5ec9f6",
   "metadata": {},
   "outputs": [],
   "source": [
    "alx.filter_brush()+alx.scatterplot(df,x='fertility',y='life_expect')"
   ]
  },
  {
   "cell_type": "code",
   "execution_count": null,
   "id": "5e83763c-15a4-4a4c-809e-feca993d1bb1",
   "metadata": {},
   "outputs": [],
   "source": [
    "short_living_countries = df[df['life_expect']<60]\n",
    "alx.highlight_point() + alx.countplot(short_living_countries,x='country',width=700)"
   ]
  },
  {
   "cell_type": "code",
   "execution_count": null,
   "id": "23bcc27e-f87b-4d07-8dde-7842be6c3792",
   "metadata": {},
   "outputs": [],
   "source": [
    "alx.filter_slider(field='year') + alx.scatterplot(df,x='fertility',y='life_expect')          "
   ]
  },
  {
   "cell_type": "code",
   "execution_count": null,
   "id": "d4a9c858-c433-44f4-a595-09c941b9e4bb",
   "metadata": {},
   "outputs": [],
   "source": [
    "alx.filter_type(target='country') + alx.lineplot(df,x='year',y='pop',color='country',width=700)"
   ]
  },
  {
   "cell_type": "code",
   "execution_count": null,
   "id": "175e0eac-062d-4510-9b7c-380c32c022b2",
   "metadata": {},
   "outputs": [],
   "source": [
    "# Your turn: create a scatterplot of 'fertility' and 'life_expect' and add a highlight_brush\n"
   ]
  },
  {
   "cell_type": "markdown",
   "id": "614918bb-982a-4062-b0aa-3c9d4b8d0c13",
   "metadata": {},
   "source": [
    "## Create Dataframes from Interactions: \n",
    "\n",
    "But now that we've explored the data, how do we drill down for more info?\n",
    "\n",
    "Let's `copy our selection to query`. You can copy the pandas query from the chart by hitting cmd+c (on mac) or cntrl+c (on windows). \n"
   ]
  },
  {
   "cell_type": "code",
   "execution_count": null,
   "id": "4f6c4d71-67c8-41ab-895f-a476f5e73bad",
   "metadata": {},
   "outputs": [],
   "source": [
    "# try it with this scatterplot, brush on the plot and then copy your interaction to pandas query\n",
    "alx.filter_brush()+alx.scatterplot(df,x='fertility',y='life_expect')"
   ]
  },
  {
   "cell_type": "code",
   "execution_count": 13,
   "id": "f5483c75-0b0c-42f7-a555-17a49ae45cbf",
   "metadata": {},
   "outputs": [],
   "source": [
    "# paste your query below\n"
   ]
  },
  {
   "cell_type": "code",
   "execution_count": null,
   "id": "1dee1ab8-6cf8-435d-9be6-87fd82885ec4",
   "metadata": {},
   "outputs": [],
   "source": [
    "# now try it with this countplot, if you shift+click, you can select multiple countries\n",
    "short_living_countries = df[df['life_expect']<60]\n",
    "alx.highlight_point() + alx.countplot(short_living_countries,x='country',width=700)"
   ]
  },
  {
   "cell_type": "code",
   "execution_count": 15,
   "id": "3a53e220-2c50-4618-8579-f5650d462b09",
   "metadata": {},
   "outputs": [],
   "source": [
    "# paste your query below\n"
   ]
  },
  {
   "cell_type": "markdown",
   "id": "ffada9d0-0271-4432-8fb5-807987354ebb",
   "metadata": {},
   "source": [
    "## Composing Interactions\n",
    "\n",
    "In addition to the visualization composition, you can add together interactions to get to powerful features.\n",
    "\n",
    "These operators compose the basics of how we can visually layout charts together. Similarly we can layer interactions on top of each other. \n"
   ]
  },
  {
   "cell_type": "code",
   "execution_count": null,
   "id": "86bedeaf-8867-4827-92a9-4eebc260458d",
   "metadata": {},
   "outputs": [],
   "source": [
    "df = data.seattle_weather()\n",
    "\n",
    "alx.tooltip_hover()+alx.highlight_brush()+alx.scatterplot(df,x='precipitation:Q',y='temp_max:Q')"
   ]
  },
  {
   "cell_type": "code",
   "execution_count": 17,
   "id": "82a81318-9629-4f28-88d5-407a258b4fc1",
   "metadata": {},
   "outputs": [],
   "source": [
    "# paste your filtered dataframe below\n"
   ]
  },
  {
   "cell_type": "markdown",
   "id": "634dfb22-e7c3-42a9-b9bf-6b600f51b4fc",
   "metadata": {},
   "source": [
    "### Interactive Dashboards \n",
    "\n",
    "Sometimes you'll want to visualize multiple charts and make them interactive.\n",
    "The easiest way is to add them directly to your composed charts. \n",
    "\n",
    "Here, we create a gapminder dashboard that lets you cross filter on your columns and see the changes on the chart below. "
   ]
  },
  {
   "cell_type": "code",
   "execution_count": null,
   "id": "361c901d-2097-4e6e-81ec-78f6f31e501a",
   "metadata": {},
   "outputs": [],
   "source": [
    "df = data.gapminder()\n",
    "\n",
    "profile = alx.profile(df)\n",
    "\n",
    "barplot = alx.barplot(df,x='country',y='pop',sort='-y',width=600) # sort descending by the height of the bars\n",
    "\n",
    "alx.highlight_brush() + alx.tooltip_hover() + alx.filter_slider(field='year') + (profile & barplot)"
   ]
  },
  {
   "cell_type": "code",
   "execution_count": null,
   "id": "5bc9e8de-bdf6-4fb3-9b96-bd70fb2ed479",
   "metadata": {},
   "outputs": [],
   "source": [
    "df = data.gapminder()\n",
    "\n",
    "scatter =  alx.scatterplot(df, x='life_expect',y='fertility',color='cluster',size='pop')\n",
    "\n",
    "slider = alx.filter_slider(field='year')\n",
    "brush = alx.highlight_brush()\n",
    "\n",
    "interactive_scatter = alx.tooltip_hover() + brush + slider  + scatter\n",
    "\n",
    "\n",
    "# apply the interaction effects to the barplot \n",
    "barplot = alx.barplot(df,x='country',y='pop',sort='-y',effects={\"filter\":[slider,brush]})\n",
    "\n",
    "# compose the visualizations together\n",
    "interactive_scatter & barplot"
   ]
  },
  {
   "cell_type": "code",
   "execution_count": 20,
   "id": "6401cf4c-f410-4aed-a5d7-f78443c5cfb6",
   "metadata": {},
   "outputs": [
    {
     "data": {
      "text/html": [
       "<video src=\"./static/gapminder_interact.mp4\" controls  width=\"1000\" >\n",
       "      Your browser does not support the <code>video</code> element.\n",
       "    </video>"
      ],
      "text/plain": [
       "<IPython.core.display.Video object>"
      ]
     },
     "execution_count": 20,
     "metadata": {},
     "output_type": "execute_result"
    }
   ],
   "source": [
    "Video('./static/gapminder_interact.mp4',width=1000)          "
   ]
  },
  {
   "cell_type": "code",
   "execution_count": null,
   "id": "711b0b72-7db4-47e1-8cc8-70c03a1743a4",
   "metadata": {},
   "outputs": [],
   "source": []
  }
 ],
 "metadata": {
  "kernelspec": {
   "display_name": "Python 3 (ipykernel)",
   "language": "python",
   "name": "python3"
  },
  "language_info": {
   "codemirror_mode": {
    "name": "ipython",
    "version": 3
   },
   "file_extension": ".py",
   "mimetype": "text/x-python",
   "name": "python",
   "nbconvert_exporter": "python",
   "pygments_lexer": "ipython3",
   "version": "3.10.0"
  }
 },
 "nbformat": 4,
 "nbformat_minor": 5
}
