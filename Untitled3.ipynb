{
 "cells": [
  {
   "cell_type": "code",
   "execution_count": 2,
   "id": "ea01a1ad-827b-47b3-a71b-b574c47153f8",
   "metadata": {},
   "outputs": [
    {
     "ename": "ModuleNotFoundError",
     "evalue": "No module named 'firebase'",
     "output_type": "error",
     "traceback": [
      "\u001b[0;31m---------------------------------------------------------------------------\u001b[0m",
      "\u001b[0;31mModuleNotFoundError\u001b[0m                       Traceback (most recent call last)",
      "\u001b[0;32m/var/folders/p0/6drk3lgs5lsdshny3wjmg53m0000gn/T/ipykernel_32753/2470808177.py\u001b[0m in \u001b[0;36m<module>\u001b[0;34m\u001b[0m\n\u001b[0;32m----> 1\u001b[0;31m \u001b[0;32mfrom\u001b[0m \u001b[0mfirebase\u001b[0m \u001b[0;32mimport\u001b[0m \u001b[0mfirebase\u001b[0m  \u001b[0;31m#firebase data retrieving code #live\u001b[0m\u001b[0;34m\u001b[0m\u001b[0;34m\u001b[0m\u001b[0m\n\u001b[0m",
      "\u001b[0;31mModuleNotFoundError\u001b[0m: No module named 'firebase'"
     ]
    }
   ],
   "source": [
    "from firebase import firebase  #firebase data retrieving code #live\n"
   ]
  },
  {
   "cell_type": "code",
   "execution_count": null,
   "id": "8f7fd02b-5216-4b1d-b2fc-5b52e95907f9",
   "metadata": {},
   "outputs": [],
   "source": []
  },
  {
   "cell_type": "code",
   "execution_count": 1,
   "id": "82b60beb-322f-41a6-8029-6e45b827f9c4",
   "metadata": {},
   "outputs": [
    {
     "data": {
      "text/plain": [
       "<firebase_admin.App at 0x111023ee0>"
      ]
     },
     "execution_count": 1,
     "metadata": {},
     "output_type": "execute_result"
    }
   ],
   "source": [
    "import firebase_admin\n",
    "from firebase_admin import credentials\n",
    "\n",
    "cred = credentials.Certificate(\"/Users/dylanwootton/Desktop/characterizing-interaction-firebase-adminsdk-yg3z3-f90269f148.json\")\n",
    "firebase_admin.initialize_app(cred)"
   ]
  },
  {
   "cell_type": "code",
   "execution_count": 4,
   "id": "cdb2cbbc-b536-41b5-92d8-b2f47b62be31",
   "metadata": {},
   "outputs": [],
   "source": [
    "from firebase_admin import firestore\n",
    "firestore_client = firestore.client()\n"
   ]
  },
  {
   "cell_type": "code",
   "execution_count": 14,
   "id": "f75d1ac2-5df6-4c49-9146-8f75a737b5db",
   "metadata": {},
   "outputs": [
    {
     "data": {
      "text/plain": [
       "{'user': 'testing- 1668460321841'}"
      ]
     },
     "execution_count": 14,
     "metadata": {},
     "output_type": "execute_result"
    }
   ],
   "source": [
    "firestore_client.collection('users').get()[1].to_dict()"
   ]
  },
  {
   "cell_type": "code",
   "execution_count": null,
   "id": "cf22ed8a-7f52-46d5-a9d5-1471f18225df",
   "metadata": {},
   "outputs": [],
   "source": [
    "firestore_client.collection('users').get()[1].to_dict()"
   ]
  },
  {
   "cell_type": "code",
   "execution_count": 15,
   "id": "d533b70c-2ae4-4096-9428-02d5e5889bcd",
   "metadata": {},
   "outputs": [],
   "source": [
    "pilot_sessions = firestore_client.collection('pilot-sessions').get()"
   ]
  },
  {
   "cell_type": "code",
   "execution_count": 16,
   "id": "25428504-2178-46ae-928d-c9ffe62c9bad",
   "metadata": {},
   "outputs": [
    {
     "data": {
      "text/plain": [
       "778"
      ]
     },
     "execution_count": 16,
     "metadata": {},
     "output_type": "execute_result"
    }
   ],
   "source": [
    "len(pilot_sessions)"
   ]
  },
  {
   "cell_type": "code",
   "execution_count": 20,
   "id": "4266a6eb-edb9-4e7c-a1b9-462dfc7612d3",
   "metadata": {},
   "outputs": [
    {
     "data": {
      "text/plain": [
       "'testing- 1677511671588'"
      ]
     },
     "execution_count": 20,
     "metadata": {},
     "output_type": "execute_result"
    }
   ],
   "source": [
    "pilot_sessions[1].to_dict()['user']"
   ]
  },
  {
   "cell_type": "code",
   "execution_count": null,
   "id": "625b7a39-1f7c-401e-9096-29871ee07403",
   "metadata": {},
   "outputs": [],
   "source": []
  }
 ],
 "metadata": {
  "kernelspec": {
   "display_name": "Python 3 (ipykernel)",
   "language": "python",
   "name": "python3"
  },
  "language_info": {
   "codemirror_mode": {
    "name": "ipython",
    "version": 3
   },
   "file_extension": ".py",
   "mimetype": "text/x-python",
   "name": "python",
   "nbconvert_exporter": "python",
   "pygments_lexer": "ipython3",
   "version": "3.10.0"
  }
 },
 "nbformat": 4,
 "nbformat_minor": 5
}
